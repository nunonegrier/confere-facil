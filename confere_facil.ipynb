{
  "nbformat": 4,
  "nbformat_minor": 0,
  "metadata": {
    "colab": {
      "provenance": [],
      "include_colab_link": true
    },
    "kernelspec": {
      "name": "python3",
      "display_name": "Python 3"
    },
    "language_info": {
      "name": "python"
    }
  },
  "cells": [
    {
      "cell_type": "markdown",
      "metadata": {
        "id": "view-in-github",
        "colab_type": "text"
      },
      "source": [
        "<a href=\"https://colab.research.google.com/github/nunonegrier/confere-facil/blob/main/confere_facil.ipynb\" target=\"_parent\"><img src=\"https://colab.research.google.com/assets/colab-badge.svg\" alt=\"Open In Colab\"/></a>"
      ]
    },
    {
      "cell_type": "code",
      "source": [
        "%pip -q install google-genai"
      ],
      "metadata": {
        "id": "UCCbECexLk_h"
      },
      "execution_count": null,
      "outputs": []
    },
    {
      "cell_type": "code",
      "source": [
        "# Configura a API Key do Google Gemini\n",
        "\n",
        "import os\n",
        "from google.colab import userdata\n",
        "\n",
        "os.environ[\"GOOGLE_API_KEY\"] = userdata.get('GOOGLE_API_KEY')"
      ],
      "metadata": {
        "id": "NfCqHo1tLk8P"
      },
      "execution_count": null,
      "outputs": []
    },
    {
      "cell_type": "code",
      "source": [
        "# Configura o cliente da SDK do Gemini\n",
        "\n",
        "from google import genai\n",
        "\n",
        "client = genai.Client()\n",
        "\n",
        "MODEL_ID = \"gemini-2.0-flash\""
      ],
      "metadata": {
        "id": "bV4w0H5TLk5g"
      },
      "execution_count": null,
      "outputs": []
    },
    {
      "cell_type": "code",
      "source": [
        "# Instalar Framework ADK de agentes do Google ################################################\n",
        "!pip install -q google-adk"
      ],
      "metadata": {
        "id": "hvZ3UnPI4jhJ",
        "colab": {
          "base_uri": "https://localhost:8080/"
        },
        "outputId": "204fe000-ab0e-45b9-f37c-a31fd8177e72"
      },
      "execution_count": null,
      "outputs": [
        {
          "output_type": "stream",
          "name": "stdout",
          "text": [
            "\u001b[?25l   \u001b[90m━━━━━━━━━━━━━━━━━━━━━━━━━━━━━━━━━━━━━━━━\u001b[0m \u001b[32m0.0/1.2 MB\u001b[0m \u001b[31m?\u001b[0m eta \u001b[36m-:--:--\u001b[0m\r\u001b[2K   \u001b[91m━━━━━━━━━━━━━━━━━━━━━━━━\u001b[0m\u001b[91m╸\u001b[0m\u001b[90m━━━━━━━━━━━━━━━\u001b[0m \u001b[32m0.7/1.2 MB\u001b[0m \u001b[31m21.9 MB/s\u001b[0m eta \u001b[36m0:00:01\u001b[0m\r\u001b[2K   \u001b[90m━━━━━━━━━━━━━━━━━━━━━━━━━━━━━━━━━━━━━━━━\u001b[0m \u001b[32m1.2/1.2 MB\u001b[0m \u001b[31m19.2 MB/s\u001b[0m eta \u001b[36m0:00:00\u001b[0m\n",
            "\u001b[2K   \u001b[90m━━━━━━━━━━━━━━━━━━━━━━━━━━━━━━━━━━━━━━━━\u001b[0m \u001b[32m232.1/232.1 kB\u001b[0m \u001b[31m17.0 MB/s\u001b[0m eta \u001b[36m0:00:00\u001b[0m\n",
            "\u001b[2K   \u001b[90m━━━━━━━━━━━━━━━━━━━━━━━━━━━━━━━━━━━━━━━━\u001b[0m \u001b[32m95.2/95.2 kB\u001b[0m \u001b[31m6.6 MB/s\u001b[0m eta \u001b[36m0:00:00\u001b[0m\n",
            "\u001b[2K   \u001b[90m━━━━━━━━━━━━━━━━━━━━━━━━━━━━━━━━━━━━━━━━\u001b[0m \u001b[32m217.1/217.1 kB\u001b[0m \u001b[31m11.8 MB/s\u001b[0m eta \u001b[36m0:00:00\u001b[0m\n",
            "\u001b[2K   \u001b[90m━━━━━━━━━━━━━━━━━━━━━━━━━━━━━━━━━━━━━━━━\u001b[0m \u001b[32m334.1/334.1 kB\u001b[0m \u001b[31m18.0 MB/s\u001b[0m eta \u001b[36m0:00:00\u001b[0m\n",
            "\u001b[2K   \u001b[90m━━━━━━━━━━━━━━━━━━━━━━━━━━━━━━━━━━━━━━━━\u001b[0m \u001b[32m125.1/125.1 kB\u001b[0m \u001b[31m8.4 MB/s\u001b[0m eta \u001b[36m0:00:00\u001b[0m\n",
            "\u001b[2K   \u001b[90m━━━━━━━━━━━━━━━━━━━━━━━━━━━━━━━━━━━━━━━━\u001b[0m \u001b[32m65.8/65.8 kB\u001b[0m \u001b[31m5.3 MB/s\u001b[0m eta \u001b[36m0:00:00\u001b[0m\n",
            "\u001b[2K   \u001b[90m━━━━━━━━━━━━━━━━━━━━━━━━━━━━━━━━━━━━━━━━\u001b[0m \u001b[32m119.0/119.0 kB\u001b[0m \u001b[31m6.2 MB/s\u001b[0m eta \u001b[36m0:00:00\u001b[0m\n",
            "\u001b[2K   \u001b[90m━━━━━━━━━━━━━━━━━━━━━━━━━━━━━━━━━━━━━━━━\u001b[0m \u001b[32m194.9/194.9 kB\u001b[0m \u001b[31m10.6 MB/s\u001b[0m eta \u001b[36m0:00:00\u001b[0m\n",
            "\u001b[2K   \u001b[90m━━━━━━━━━━━━━━━━━━━━━━━━━━━━━━━━━━━━━━━━\u001b[0m \u001b[32m62.5/62.5 kB\u001b[0m \u001b[31m4.8 MB/s\u001b[0m eta \u001b[36m0:00:00\u001b[0m\n",
            "\u001b[2K   \u001b[90m━━━━━━━━━━━━━━━━━━━━━━━━━━━━━━━━━━━━━━━━\u001b[0m \u001b[32m103.3/103.3 kB\u001b[0m \u001b[31m7.7 MB/s\u001b[0m eta \u001b[36m0:00:00\u001b[0m\n",
            "\u001b[2K   \u001b[90m━━━━━━━━━━━━━━━━━━━━━━━━━━━━━━━━━━━━━━━━\u001b[0m \u001b[32m44.4/44.4 kB\u001b[0m \u001b[31m3.1 MB/s\u001b[0m eta \u001b[36m0:00:00\u001b[0m\n",
            "\u001b[2K   \u001b[90m━━━━━━━━━━━━━━━━━━━━━━━━━━━━━━━━━━━━━━━━\u001b[0m \u001b[32m72.0/72.0 kB\u001b[0m \u001b[31m5.5 MB/s\u001b[0m eta \u001b[36m0:00:00\u001b[0m\n",
            "\u001b[?25h"
          ]
        }
      ]
    },
    {
      "cell_type": "code",
      "execution_count": 35,
      "metadata": {
        "id": "aePV2bdfDeoW"
      },
      "outputs": [],
      "source": [
        "from google.adk.agents import Agent\n",
        "from google.adk.runners import Runner\n",
        "from google.adk.sessions import InMemorySessionService\n",
        "from google.adk.tools import google_search\n",
        "from google.genai import types  # Para criar conteúdos (Content e Part)\n",
        "from datetime import date\n",
        "import textwrap # Para formatar melhor a saída de texto\n",
        "from IPython.display import display, Markdown # Para exibir texto formatado no Colab\n",
        "import requests # Para fazer requisições HTTP\n",
        "import warnings\n",
        "import re\n",
        "\n",
        "warnings.filterwarnings(\"ignore\")"
      ]
    },
    {
      "cell_type": "code",
      "source": [
        "# Função auxiliar que envia uma mensagem para um agente via Runner e retorna a resposta final\n",
        "def call_agent(agent: Agent, message_text: str) -> str:\n",
        "    # Cria um serviço de sessão em memória\n",
        "    session_service = InMemorySessionService()\n",
        "    # Cria uma nova sessão (você pode personalizar os IDs conforme necessário)\n",
        "    session = session_service.create_session(app_name=agent.name, user_id=\"user1\", session_id=\"session1\")\n",
        "    # Cria um Runner para o agente\n",
        "    runner = Runner(agent=agent, app_name=agent.name, session_service=session_service)\n",
        "    # Cria o conteúdo da mensagem de entrada\n",
        "    content = types.Content(role=\"user\", parts=[types.Part(text=message_text)])\n",
        "\n",
        "    final_response = \"\"\n",
        "    # Itera assincronamente pelos eventos retornados durante a execução do agente\n",
        "    for event in runner.run(user_id=\"user1\", session_id=\"session1\", new_message=content):\n",
        "        if event.is_final_response():\n",
        "          for part in event.content.parts:\n",
        "            if part.text is not None:\n",
        "              final_response += part.text\n",
        "              final_response += \"\\n\"\n",
        "    return final_response"
      ],
      "metadata": {
        "id": "_xP4lWhsS5ko"
      },
      "execution_count": null,
      "outputs": []
    },
    {
      "cell_type": "code",
      "source": [
        "# Função auxiliar para exibir texto formatado em Markdown no Colab\n",
        "def to_markdown(text):\n",
        "  text = text.replace('•', '  *')\n",
        "  return Markdown(textwrap.indent(text, '> ', predicate=lambda _: True))"
      ],
      "metadata": {
        "id": "8dosiodaxfFR"
      },
      "execution_count": null,
      "outputs": []
    },
    {
      "cell_type": "code",
      "source": [
        "############################################\n",
        "# --- Agente 1: Pesquisador de fraudes --- #\n",
        "############################################\n",
        "def agente_buscador(descricao_ocorrencia):\n",
        "  buscador = Agent(\n",
        "      name=\"agente_buscador\",\n",
        "      model=\"gemini-2.0-flash\",\n",
        "      description=\"Agente que busca informações sobre a ocorrência\",\n",
        "      tools=[google_search],\n",
        "      instruction=\"\"\"\n",
        "      Você é um pesquisador de segurança digital.\n",
        "      Possui vastos conhecimentos nos mais diversos tipos de fraudes digitais sendo feitas atualmente.\n",
        "      A sua tarefa é a de analisar a descrição da ocorrência abaixo, e, para complementar a análise, deve também utilizar\n",
        "      a ferramenta de busca do google (google_search) para ter acesso às informações mais recentes sobre o tema.\n",
        "      A análise deve calcular a probabilidade de ser uma tentativa de fraude em curso assim como identificar o possível tipo de fraude.\n",
        "      De preferência, deverá fazer uma identificação única e acertiva do tipo de fraude em andamento, mas, não sendo possível, deverá listar\n",
        "      uma segunda possível identificação do tipo de fraude.\n",
        "      Faça apenas a análise sem apresentar recomendações.\n",
        "      Dê uma resposta suscinta, mas que não deixe nenhuma informação importante de fora.\n",
        "      \"\"\"\n",
        "  )\n",
        "\n",
        "  entrada_do_agente_de_pesquisa_inicial = f\"Ocorrência: {descricao_ocorrencia}\"\n",
        "\n",
        "  # Executa o agente\n",
        "  pesquisa_inicial = call_agent(buscador, entrada_do_agente_de_pesquisa_inicial)\n",
        "  return pesquisa_inicial"
      ],
      "metadata": {
        "id": "o8bqIfi_DyH8"
      },
      "execution_count": 36,
      "outputs": []
    },
    {
      "cell_type": "code",
      "source": [
        "################################################\n",
        "#     --- Agente 2: Analista de fraudes ---    #\n",
        "################################################\n",
        "def agente_analista(descricao_ocorrencia, pesquisa_ocorrencia, respostas_usuario=None):\n",
        "    analista = Agent(\n",
        "        name=\"agente_analista\",\n",
        "        model=\"gemini-2.0-flash\",\n",
        "        instruction=\"\"\"\n",
        "        Você é um especialista em análise de fraudes.\n",
        "        Com base na pesquisa inicial sobre a descrição da fraude:\n",
        "        Crie entre 1 a 3 perguntas a serem feitas ao usuário e baseadas na pesquisa inicial, que auxiliem na análise da pesquisa inicial\n",
        "        e retorne APENAS as perguntas numeradas.\n",
        "        Se respostas do usuário forem fornecidas, utilize a pesquisa inicial e as respostas fornecidas para refinar a análise inicial,\n",
        "        NÃO faça novas perguntas, use a ferramenta de busca do google (google_search) para buscar informações mais recentes se forem necessárias\n",
        "        e apresente a análise final suscinta, mas que não deixe nenhuma informação importante de fora.\n",
        "        \"\"\",\n",
        "        description=\"Agente que analisa fraudes\",\n",
        "        tools=[google_search]\n",
        "    )\n",
        "\n",
        "    entrada_do_agente_analista = f\"Descrição:{descricao_ocorrencia}\\nPesquisa: {pesquisa_ocorrencia}\"\n",
        "    if respostas_usuario:\n",
        "        entrada_do_agente_analista += f\"\\nRespostas do usuário: {respostas_usuario}\"\n",
        "\n",
        "    # Executa o agente\n",
        "    analise_da_fraude = call_agent(analista, entrada_do_agente_analista)\n",
        "    return analise_da_fraude"
      ],
      "metadata": {
        "id": "P8kIn6fV-Pa2"
      },
      "execution_count": null,
      "outputs": []
    },
    {
      "cell_type": "code",
      "source": [
        "####################################################\n",
        "# --- Agente 3: Especialista em Cibersegurança --- #\n",
        "####################################################\n",
        "def agente_especialista(descricao_ocorrencia, analise_da_fraude):\n",
        "    especialista = Agent(\n",
        "        name=\"agente_especialista\",\n",
        "        model=\"gemini-2.0-flash\",\n",
        "        instruction=\"\"\"\n",
        "            Você é um especialista em cibersegurança.\n",
        "            Com base na análise da fraude você deve:\n",
        "            Fornecer instruções claras para que o usuário evite a fraude.\n",
        "            Fornecer os contados dos canais de atendimento da empresa ou serviço, públicos ou privados, ou qualquer\n",
        "            outro tipo de negócio que tenham sido mencionados na descrição da ocorrência para que o usuário possa entrar\n",
        "            em contato para esclarecer a situação.\n",
        "            Termine listando exatamente e de forma clara e estruturada com as indicações do que o usuário não deve fazer no presente caso.\n",
        "            \"\"\",\n",
        "        description=\"Agente especialista em ciberseguranca\",\n",
        "        tools=[google_search]\n",
        "    )\n",
        "    entrada_do_agente_especialista = f\"Descrição: {descricao_ocorrencia}\\nAnálise: {analise_da_fraude}\"\n",
        "\n",
        "    # Executa o agente\n",
        "    recomendacoes_finais = call_agent(especialista, entrada_do_agente_especialista)\n",
        "    return recomendacoes_finais"
      ],
      "metadata": {
        "id": "uOqlg2TRLVh1"
      },
      "execution_count": 34,
      "outputs": []
    },
    {
      "cell_type": "code",
      "source": [
        "print(\"🚀 Iniciando o Sistema de Análise e Prevenção de Fraudes 🚀\")\n",
        "\n",
        "# --- Obter a Descrição do Usuário ---\n",
        "print(\"❓ Por favor, faça uma descrição da possível fraude:\")\n",
        "descricao_ocorrencia = input(\"\")\n",
        "\n",
        "\n",
        "if not descricao_ocorrencia:\n",
        "  print(\"você esqueceu de digitar a descrição!\")\n",
        "else:\n",
        "  print(f\"Obrigado! Vamos analisar a ocorrência como foi descrita: {descricao_ocorrencia}\")\n",
        "\n",
        "  # 1o Agente\n",
        "  pesquisa_ocorrencia = agente_buscador(descricao_ocorrencia)\n",
        "  print(\"\\n--- Resultado do Agente 1 (Buscador) ---\\n\")\n",
        "  display(to_markdown(pesquisa_ocorrencia))\n",
        "  print(\"-------------------------------------------------------------------\")\n",
        "\n",
        "  # 2o Agente\n",
        "  # Primeira chamada do agente analista para obter as perguntas\n",
        "  perguntas_texto = agente_analista(descricao_ocorrencia, pesquisa_ocorrencia)\n",
        "  print(\"\\n--- Perguntas do Agente 2 (Analista) ---\\n\")\n",
        "  display(to_markdown(perguntas_texto))\n",
        "  print(\"-------------------------------------------------------------------\")\n",
        "\n",
        "  # Extrair as perguntas numeradas do texto\n",
        "  perguntas_lista = re.findall(r'\\d+\\.\\s+(.*)', perguntas_texto)\n",
        "\n",
        "  respostas_usuario = {} # Dicionário para armazenar as respostas {numero_pergunta: resposta}\n",
        "\n",
        "  if perguntas_lista:\n",
        "      print(\"\\n❓ Por favor, responda às perguntas acima para ajudar na análise:\")\n",
        "      for i, pergunta in enumerate(perguntas_lista):\n",
        "          print(f\"Resposta para a pergunta {i + 1}:\")\n",
        "          print(f\"'{pergunta.strip()}'\")\n",
        "          resposta = input(\"\")\n",
        "          respostas_usuario[f\"Pergunta {i + 1}\"] = resposta # Armazena a resposta associada ao número da pergunta\n",
        "  else:\n",
        "      print(\"Nenhuma pergunta foi gerada pelo agente analista.\")\n",
        "\n",
        "  # Preparar as respostas para enviar ao agente na segunda chamada\n",
        "  respostas_formatadas = \"\\n\".join([f\"{chave}: {valor}\" for chave, valor in respostas_usuario.items()])\n",
        "\n",
        "  # Segunda chamada do agente analista com as respostas do usuário\n",
        "  analise_da_fraude = agente_analista(descricao_ocorrencia, pesquisa_ocorrencia, respostas_usuario=respostas_usuario)\n",
        "  print(\"\\n--- Análise final do Agente 2 (Analista) ---\\n\")\n",
        "  display(to_markdown(analise_da_fraude))\n",
        "  print(\"-------------------------------------------------------------------\")\n",
        "\n",
        "  # 3o Agente\n",
        "  recomendacoes_finais = agente_especialista(descricao_ocorrencia, analise_da_fraude)\n",
        "  print(\"\\n--- Resultado do Agente 3 (Especialista) ---\\n\")\n",
        "  print(recomendacoes_finais)\n",
        "#   display(to_markdown(recomendacoes_finais))\n",
        "  print(\"-------------------------------------------------------------------\")"
      ],
      "metadata": {
        "id": "N1h747j9-93w"
      },
      "execution_count": null,
      "outputs": []
    }
  ]
}