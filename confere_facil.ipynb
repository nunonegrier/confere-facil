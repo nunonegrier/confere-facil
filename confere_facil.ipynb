{
  "nbformat": 4,
  "nbformat_minor": 0,
  "metadata": {
    "colab": {
      "provenance": [],
      "include_colab_link": true
    },
    "kernelspec": {
      "name": "python3",
      "display_name": "Python 3"
    },
    "language_info": {
      "name": "python"
    }
  },
  "cells": [
    {
      "cell_type": "markdown",
      "metadata": {
        "id": "view-in-github",
        "colab_type": "text"
      },
      "source": [
        "<a href=\"https://colab.research.google.com/github/nunonegrier/confere-facil/blob/main/confere_facil.ipynb\" target=\"_parent\"><img src=\"https://colab.research.google.com/assets/colab-badge.svg\" alt=\"Open In Colab\"/></a>"
      ]
    },
    {
      "cell_type": "code",
      "source": [
        "%pip -q install google-genai"
      ],
      "metadata": {
        "id": "UCCbECexLk_h"
      },
      "execution_count": 1,
      "outputs": []
    },
    {
      "cell_type": "code",
      "source": [
        "# Configura a API Key do Google Gemini\n",
        "\n",
        "import os\n",
        "from google.colab import userdata\n",
        "\n",
        "os.environ[\"GOOGLE_API_KEY\"] = userdata.get('GOOGLE_API_KEY')"
      ],
      "metadata": {
        "id": "NfCqHo1tLk8P"
      },
      "execution_count": 2,
      "outputs": []
    },
    {
      "cell_type": "code",
      "source": [
        "# Configura o cliente da SDK do Gemini\n",
        "\n",
        "from google import genai\n",
        "\n",
        "client = genai.Client()\n",
        "\n",
        "MODEL_ID = \"gemini-2.0-flash\""
      ],
      "metadata": {
        "id": "bV4w0H5TLk5g"
      },
      "execution_count": 3,
      "outputs": []
    },
    {
      "cell_type": "code",
      "source": [
        "# Instalar Framework ADK de agentes do Google ################################################\n",
        "!pip install -q google-adk"
      ],
      "metadata": {
        "id": "hvZ3UnPI4jhJ"
      },
      "execution_count": null,
      "outputs": []
    },
    {
      "cell_type": "code",
      "execution_count": 42,
      "metadata": {
        "id": "aePV2bdfDeoW"
      },
      "outputs": [],
      "source": [
        "from google.adk.agents import Agent\n",
        "from google.adk.runners import Runner\n",
        "from google.adk.sessions import InMemorySessionService\n",
        "from google.adk.tools import google_search\n",
        "from google.genai import types  # Para criar conteúdos (Content e Part)\n",
        "from datetime import date\n",
        "import textwrap # Para formatar melhor a saída de texto\n",
        "from IPython.display import display, Markdown # Para exibir texto formatado no Colab\n",
        "import requests # Para fazer requisições HTTP\n",
        "import warnings\n",
        "import re\n",
        "\n",
        "warnings.filterwarnings(\"ignore\")"
      ]
    },
    {
      "cell_type": "code",
      "source": [
        "# Função auxiliar que envia uma mensagem para um agente via Runner e retorna a resposta final\n",
        "def call_agent(agent: Agent, message_text: str) -> str:\n",
        "    # Cria um serviço de sessão em memória\n",
        "    session_service = InMemorySessionService()\n",
        "    # Cria uma nova sessão (você pode personalizar os IDs conforme necessário)\n",
        "    session = session_service.create_session(app_name=agent.name, user_id=\"user1\", session_id=\"session1\")\n",
        "    # Cria um Runner para o agente\n",
        "    runner = Runner(agent=agent, app_name=agent.name, session_service=session_service)\n",
        "    # Cria o conteúdo da mensagem de entrada\n",
        "    content = types.Content(role=\"user\", parts=[types.Part(text=message_text)])\n",
        "\n",
        "    final_response = \"\"\n",
        "    # Itera assincronamente pelos eventos retornados durante a execução do agente\n",
        "    for event in runner.run(user_id=\"user1\", session_id=\"session1\", new_message=content):\n",
        "        if event.is_final_response():\n",
        "          for part in event.content.parts:\n",
        "            if part.text is not None:\n",
        "              final_response += part.text\n",
        "              final_response += \"\\n\"\n",
        "    return final_response"
      ],
      "metadata": {
        "id": "_xP4lWhsS5ko"
      },
      "execution_count": 9,
      "outputs": []
    },
    {
      "cell_type": "code",
      "source": [
        "# Função auxiliar para exibir texto formatado em Markdown no Colab\n",
        "def to_markdown(text):\n",
        "  text = text.replace('•', '  *')\n",
        "  return Markdown(textwrap.indent(text, '> ', predicate=lambda _: True))"
      ],
      "metadata": {
        "id": "8dosiodaxfFR"
      },
      "execution_count": 10,
      "outputs": []
    },
    {
      "cell_type": "code",
      "source": [
        "############################################\n",
        "# --- Agente 1: Pesquisador de fraudes --- #\n",
        "############################################\n",
        "def agente_buscador(descricao_ocorrencia):\n",
        "  buscador = Agent(\n",
        "      name=\"agente_buscador\",\n",
        "      model=\"gemini-2.0-flash\",\n",
        "      description=\"Agente que busca informações sobre a ocorrência\",\n",
        "      tools=[google_search],\n",
        "      instruction=\"\"\"\n",
        "      Você é um pesquisador de segurança digital.\n",
        "      Possui vastos conhecimentos nos mais diversos tipos de fraudes digitais sendo feitas atualmente.\n",
        "      A sua tarefa é a de analisar a descrição da ocorrência abaixo, e, para complementar a análise, deve também utilizar\n",
        "      a ferramenta de busca do google (google_search) para ter acesso às informações mais recentes sobre o tema.\n",
        "      A análise deve calcular a probabilidade de ser uma tentativa de fraude em curso assim como identificar o possível tipo de fraude.\n",
        "      De preferência, deverá fazer uma identificação única e acertiva do tipo de fraude em andamento, mas, não sendo possível, deverá listar\n",
        "      uma segunda possível identificação do tipo de fraude.\n",
        "      Faça apenas a análise sem apresentar recomendações.\n",
        "      Dê uma resposta suscinta, mas que não deixe nenhuma informação importante de fora.\n",
        "      \"\"\"\n",
        "  )\n",
        "\n",
        "  entrada_do_agente_de_pesquisa_inicial = f\"Ocorrência: {descricao_ocorrencia}\"\n",
        "\n",
        "  # Executa o agente\n",
        "  pesquisa_inicial = call_agent(buscador, entrada_do_agente_de_pesquisa_inicial)\n",
        "  return pesquisa_inicial"
      ],
      "metadata": {
        "id": "o8bqIfi_DyH8"
      },
      "execution_count": 50,
      "outputs": []
    },
    {
      "cell_type": "code",
      "source": [
        "################################################\n",
        "#     --- Agente 2: Analista de fraudes ---    #\n",
        "################################################\n",
        "def agente_analista(descricao_ocorrencia, pesquisa_ocorrencia, respostas_usuario=None):\n",
        "    analista = Agent(\n",
        "        name=\"agente_analista\",\n",
        "        model=\"gemini-2.0-flash\",\n",
        "        instruction=\"\"\"\n",
        "        Você é um especialista em análise de fraudes.\n",
        "        Com base na pesquisa inicial sobre a descrição da fraude:\n",
        "        Crie entre 1 a 3 perguntas a serem feitas ao usuário e baseadas na pesquisa inicial, que auxiliem na análise da pesquisa inicial\n",
        "        e retorne APENAS as perguntas numeradas.\n",
        "        Se respostas do usuário forem fornecidas, utilize a pesquisa inicial e as respostas fornecidas para refinar a análise inicial,\n",
        "        NÃO faça novas perguntas, use a ferramenta de busca do google (google_search) para buscar informações mais recentes se forem necessárias\n",
        "        e apresente a análise final suscinta, mas que não deixe nenhuma informação importante de fora.\n",
        "        \"\"\",\n",
        "        description=\"Agente que analisa fraudes\",\n",
        "        tools=[google_search]\n",
        "    )\n",
        "\n",
        "    entrada_do_agente_analista = f\"Descrição:{descricao_ocorrencia}\\nPesquisa: {pesquisa_ocorrencia}\"\n",
        "    if respostas_usuario:\n",
        "        entrada_do_agente_analista += f\"\\nRespostas do usuário: {respostas_usuario}\"\n",
        "\n",
        "    # Executa o agente\n",
        "    analise_da_fraude = call_agent(analista, entrada_do_agente_analista)\n",
        "    return analise_da_fraude"
      ],
      "metadata": {
        "id": "P8kIn6fV-Pa2"
      },
      "execution_count": 51,
      "outputs": []
    },
    {
      "cell_type": "code",
      "source": [
        "####################################################\n",
        "# --- Agente 3: Especialista em Cibersegurança --- #\n",
        "####################################################\n",
        "def agente_especialista(descricao_ocorrencia, analise_da_fraude):\n",
        "    especialista = Agent(\n",
        "        name=\"agente_especialista\",\n",
        "        model=\"gemini-2.0-flash\",\n",
        "        instruction=\"\"\"\n",
        "            Você é um especialista em cibersegurança.\n",
        "            Com base na análise da fraude você deve:\n",
        "            Fornecer instruções claras para que o usuário evite a fraude.\n",
        "            Fornecer os contados dos canais de atendimento da empresa ou serviço, públicos ou privados, ou qualquer\n",
        "            outro tipo de negócio que tenham sido mencionados na descrição da ocorrência para que o usuário possa entrar\n",
        "            em contato para esclarecer a situação.\n",
        "            \"\"\",\n",
        "        description=\"Agente especialista de posts engajadores para Instagram\",\n",
        "        tools=[google_search]\n",
        "    )\n",
        "    entrada_do_agente_especialista = f\"Descrição: {descricao_ocorrencia}\\nAnálise: {analise_da_fraude}\"\n",
        "\n",
        "    # Executa o agente\n",
        "    recomendacoes_finais = call_agent(especialista, entrada_do_agente_especialista)\n",
        "    return recomendacoes_finais"
      ],
      "metadata": {
        "id": "uOqlg2TRLVh1"
      },
      "execution_count": 52,
      "outputs": []
    },
    {
      "cell_type": "code",
      "source": [
        "print(\"🚀 Iniciando o Sistema de Análise e Prevenção de Fraudes 🚀\")\n",
        "\n",
        "# --- Obter a Descrição do Usuário ---\n",
        "print(\"❓ Por favor, faça uma descrição da possível fraude:\")\n",
        "descricao_ocorrencia = input(\"\")\n",
        "\n",
        "\n",
        "if not descricao_ocorrencia:\n",
        "  print(\"você esqueceu de digitar a descrição!\")\n",
        "else:\n",
        "  print(f\"Obrigado! Vamos analisar a ocorrência como foi descrita: {descricao_ocorrencia}\")\n",
        "\n",
        "  # 1o Agente\n",
        "  pesquisa_ocorrencia = agente_buscador(descricao_ocorrencia)\n",
        "  print(\"\\n--- Resultado do Agente 1 (Buscador) ---\\n\")\n",
        "  display(to_markdown(pesquisa_ocorrencia))\n",
        "  print(\"-------------------------------------------------------------------\")\n",
        "\n",
        "  # 2o Agente\n",
        "  # Primeira chamada do agente analista para obter as perguntas\n",
        "  perguntas_texto = agente_analista(descricao_ocorrencia, pesquisa_ocorrencia)\n",
        "  print(\"\\n--- Perguntas do Agente 2 (Analista) ---\\n\")\n",
        "  display(to_markdown(perguntas_texto))\n",
        "  print(\"-------------------------------------------------------------------\")\n",
        "\n",
        "  # Extrair as perguntas numeradas do texto\n",
        "  perguntas_lista = re.findall(r'\\d+\\.\\s+(.*)', perguntas_texto)\n",
        "\n",
        "  respostas_usuario = {} # Dicionário para armazenar as respostas {numero_pergunta: resposta}\n",
        "\n",
        "  if perguntas_lista:\n",
        "      print(\"\\n❓ Por favor, responda às perguntas acima para ajudar na análise:\")\n",
        "      for i, pergunta in enumerate(perguntas_lista):\n",
        "          print(f\"Resposta para a pergunta {i + 1}:\")\n",
        "          print(f\"'{pergunta.strip()}'\")\n",
        "          resposta = input(\"\")\n",
        "          respostas_usuario[f\"Pergunta {i + 1}\"] = resposta # Armazena a resposta associada ao número da pergunta\n",
        "  else:\n",
        "      print(\"Nenhuma pergunta foi gerada pelo agente analista.\")\n",
        "\n",
        "  # Preparar as respostas para enviar ao agente na segunda chamada\n",
        "  respostas_formatadas = \"\\n\".join([f\"{chave}: {valor}\" for chave, valor in respostas_usuario.items()])\n",
        "\n",
        "  # Segunda chamada do agente analista com as respostas do usuário\n",
        "  analise_da_fraude = agente_analista(descricao_ocorrencia, pesquisa_ocorrencia, respostas_usuario=respostas_usuario)\n",
        "  print(\"\\n--- Análise final do Agente 2 (Analista) ---\\n\")\n",
        "  display(to_markdown(analise_da_fraude))\n",
        "  print(\"-------------------------------------------------------------------\")\n",
        "\n",
        "  # 3o Agente\n",
        "  recomendacoes_finais = agente_especialista(descricao_ocorrencia, analise_da_fraude)\n",
        "  print(\"\\n--- Resultado do Agente 3 (Especialista) ---\\n\")\n",
        "  display(to_markdown(recomendacoes_finais))\n",
        "  print(\"-------------------------------------------------------------------\")"
      ],
      "metadata": {
        "colab": {
          "base_uri": "https://localhost:8080/",
          "height": 1000
        },
        "id": "N1h747j9-93w",
        "outputId": "b965b61f-4660-4825-e485-c391fcab3ed2"
      },
      "execution_count": 54,
      "outputs": [
        {
          "output_type": "stream",
          "name": "stdout",
          "text": [
            "🚀 Iniciando o Sistema de Análise e Prevenção de Fraudes 🚀\n",
            "❓ Por favor, faça uma descrição da possível fraude:\n",
            "recebi um pedido de dinheiro emprestado de uma amigo no whatsapp, tenho receio de que não seja ele e que o seu whatsapp tenha sido roubado\n",
            "Obrigado! Vamos analisar a ocorrência como foi descrita: recebi um pedido de dinheiro emprestado de uma amigo no whatsapp, tenho receio de que não seja ele e que o seu whatsapp tenha sido roubado\n",
            "\n",
            "--- Resultado do Agente 1 (Buscador) ---\n",
            "\n"
          ]
        },
        {
          "output_type": "display_data",
          "data": {
            "text/plain": [
              "<IPython.core.display.Markdown object>"
            ],
            "text/markdown": "> Compreendo sua preocupação em relação ao pedido de dinheiro via WhatsApp. Para analisar a probabilidade de ser uma fraude, farei algumas buscas para complementar a análise.\n> \n> \n> Com base na sua descrição e nas informações encontradas, a probabilidade de ser uma tentativa de fraude é alta. O tipo de fraude mais provável é o **\"Golpe do WhatsApp\"**, especificamente a variação em que criminosos se passam por conhecidos para pedir dinheiro.\n> \n> Uma segunda possibilidade é que a conta do seu amigo tenha sido clonada, e os criminosos estão usando o número dele para pedir dinheiro a contatos.\n> \n> \n"
          },
          "metadata": {}
        },
        {
          "output_type": "stream",
          "name": "stdout",
          "text": [
            "-------------------------------------------------------------------\n",
            "\n",
            "--- Perguntas do Agente 2 (Analista) ---\n",
            "\n"
          ]
        },
        {
          "output_type": "display_data",
          "data": {
            "text/plain": [
              "<IPython.core.display.Markdown object>"
            ],
            "text/markdown": "> Para refinar a análise e confirmar se é uma tentativa de fraude, preciso de mais informações. Por favor, responda às seguintes perguntas:\n> \n> 1.  Você poderia me informar qual o valor solicitado e qual a justificativa apresentada para o empréstimo?\n> 2.  Você já tentou confirmar a situação diretamente com seu amigo por outro meio de comunicação (ligação telefônica, mensagem em outra rede social, etc.)?\n> 3.  O número de telefone que está solicitando o dinheiro é o mesmo que você tem salvo para o seu amigo?\n> \n"
          },
          "metadata": {}
        },
        {
          "output_type": "stream",
          "name": "stdout",
          "text": [
            "-------------------------------------------------------------------\n",
            "\n",
            "❓ Por favor, responda às perguntas acima para ajudar na análise:\n",
            "Resposta para a pergunta 1:\n",
            "'Você poderia me informar qual o valor solicitado e qual a justificativa apresentada para o empréstimo?'\n",
            "789,56, ele disse que esqueceu os cartões em casa e precisa pagar uma conta com urgência\n",
            "Resposta para a pergunta 2:\n",
            "'Você já tentou confirmar a situação diretamente com seu amigo por outro meio de comunicação (ligação telefônica, mensagem em outra rede social, etc.)?'\n",
            "tentei ligar para ele mas não atendeu, só respondeu por mensagem de texto\n",
            "Resposta para a pergunta 3:\n",
            "'O número de telefone que está solicitando o dinheiro é o mesmo que você tem salvo para o seu amigo?'\n",
            "sim\n",
            "\n",
            "--- Análise final do Agente 2 (Analista) ---\n",
            "\n"
          ]
        },
        {
          "output_type": "display_data",
          "data": {
            "text/plain": [
              "<IPython.core.display.Markdown object>"
            ],
            "text/markdown": "> Com base na sua descrição inicial, nas respostas fornecidas e na minha pesquisa prévia, a probabilidade de ser uma tentativa de fraude é ainda maior. Os elementos que reforçam essa análise são:\n> \n> 1.  **Pedido de valor específico e com urgência:** Golpistas frequentemente usam essa tática para pressionar a vítima a agir sem pensar.\n> 2.  **Dificuldade em contatar o amigo por outros meios:** A indisponibilidade para atender ligações e a comunicação exclusiva por mensagens de texto são características comuns de golpes, pois o fraudador tenta evitar ser descoberto pela voz.\n> 3.  **Alegada emergência (esquecimento dos cartões):** Essa é uma desculpa comum usada para justificar o pedido de dinheiro imediato.\n> \n> **Análise Final:**\n> \n> Diante dos fatos, tudo indica que você está sendo alvo do \"Golpe do WhatsApp\". Recomenda-se fortemente que **não faça nenhuma transferência** e tente confirmar a situação diretamente com seu amigo por outros meios de comunicação (ligação telefônica, contato pessoal, etc.). Adicionalmente, alerte seu amigo sobre a possível clonagem/invasão da conta dele para que ele possa tomar as medidas de segurança necessárias e avisar seus outros contatos.\n"
          },
          "metadata": {}
        },
        {
          "output_type": "stream",
          "name": "stdout",
          "text": [
            "-------------------------------------------------------------------\n",
            "\n",
            "--- Resultado do Agente 3 (Especialista) ---\n",
            "\n"
          ]
        },
        {
          "output_type": "display_data",
          "data": {
            "text/plain": [
              "<IPython.core.display.Markdown object>"
            ],
            "text/markdown": "> Com certeza, aqui estão algumas instruções claras para evitar cair nesse tipo de golpe e os contatos que podem ser úteis:\n> \n> **Instruções para Evitar a Fraude:**\n> \n> 1.  **Confirme a Identidade:**\n>     *   **Sempre ligue para o seu amigo(a)** por um número de telefone que você já tenha salvo, **antes de fazer qualquer transferência**.\n>     *   Se não conseguir contato telefônico, tente falar com ele(a) pessoalmente ou por meio de outro contato que você tenha (outro amigo em comum, familiar, etc.).\n> 2.  **Desconfie de Urgência e Segredos:**\n>     *   Golpistas frequentemente criam um senso de urgência para que você não tenha tempo de pensar ou verificar a situação.\n>     *   Desconfie se pedirem para você não contar nada a ninguém.\n> 3.  **Verifique a Gramática e a Redação:**\n>     *   Preste atenção na forma como a pessoa escreve. Golpistas podem cometer erros de gramática ou usar uma linguagem diferente da que seu amigo(a) usaria.\n> 4.  **Não Forneça Informações Pessoais:**\n>     *   Nunca compartilhe senhas, códigos de verificação ou informações bancárias por WhatsApp.\n> 5.  **Ative a Verificação em Duas Etapas no WhatsApp:**\n>     *   Isso adiciona uma camada extra de segurança à sua conta. Para ativar, vá em Configurações > Conta > Verificação em duas etapas.\n> 6.  **Desconfie de Pedidos de Transferência para Contas de Terceiros:**\n>     *   Se o pedido de dinheiro envolver uma conta bancária que não seja do seu amigo(a), desconfie ainda mais.\n> 7.  **Mantenha a Calma:**\n>     *   Golpistas querem que você entre em pânico. Respire fundo e siga os passos acima antes de tomar qualquer atitude.\n> 8.  **Informe seus Contatos:**\n>     *   Se você descobrir que um amigo(a) foi hackeado, avise outros contatos dele(a) para que não caiam no golpe.\n> 9.  **Faça um Boletim de Ocorrência:**\n>     *   Se você foi vítima de um golpe, registre um boletim de ocorrência na polícia.\n> \n> **Canais de Atendimento e Contato:**\n> \n> Como a descrição da ocorrência não menciona nenhuma empresa ou serviço específico, não é possível fornecer contatos de canais de atendimento. No entanto, se você tiver informações adicionais sobre a empresa ou serviço envolvido, posso tentar encontrar os contatos relevantes.\n> \n> **O mais importante neste momento é:**\n> \n> *   **Não faça a transferência solicitada.**\n> *   **Tente entrar em contato com seu amigo(a) por outros meios** para confirmar se ele(a) realmente precisa do dinheiro.\n> *   **Avise seu amigo(a)** sobre a possível invasão da conta dele(a) para que ele(a) possa tomar as medidas de segurança necessárias.\n> \n"
          },
          "metadata": {}
        },
        {
          "output_type": "stream",
          "name": "stdout",
          "text": [
            "-------------------------------------------------------------------\n"
          ]
        }
      ]
    }
  ]
}